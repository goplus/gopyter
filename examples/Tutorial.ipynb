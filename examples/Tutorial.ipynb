{
 "cells": [
  {
   "cell_type": "code",
   "execution_count": 1,
   "metadata": {},
   "outputs": [
    {
     "name": "stdout",
     "output_type": "stream",
     "text": [
      "36893488147419103232 4/5 59/30\n"
     ]
    },
    {
     "data": {
      "text/plain": [
       "31,<nil>"
      ]
     },
     "execution_count": 1,
     "metadata": {},
     "output_type": "execute_result"
    }
   ],
   "source": [
    "a := 1r << 65   // bigint, large than int64\n",
    "b := 4/5r       // bigrat\n",
    "c := b - 1/3r + 3 * 1/2r\n",
    "println(a, b, c)"
   ]
  }
 ],
 "metadata": {
  "kernelspec": {
   "display_name": "GoPlus",
   "language": "go+",
   "name": "gopyter"
  },
  "language_info": {
   "codemirror_mode": "",
   "file_extension": ".go",
   "mimetype": "",
   "name": "go+",
   "nbconvert_exporter": "",
   "pygments_lexer": "",
   "version": "go1.15.5"
  }
 },
 "nbformat": 4,
 "nbformat_minor": 4
}
